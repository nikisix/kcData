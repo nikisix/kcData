{
 "metadata": {
  "name": "",
  "signature": "sha256:b337a3e97ea54e4fefae4fce9e90c16ad4cb4568d19923031e39081c87c099c4"
 },
 "nbformat": 3,
 "nbformat_minor": 0,
 "worksheets": [
  {
   "cells": [
    {
     "cell_type": "raw",
     "metadata": {},
     "source": [
      "\u250c\u2500\u2500\u2500\u2500\u2500\u2500\u2500\u2500\u2500\u2500\u2500\u2500\u2500\u2500\u2500\u2500\u2500\u2500\u2500\u2500\u2500\u2500\u2500\u2500\u2500\u2500\u2500\u2500\u2500\u2500\u2500\u2500\u2500\u2500\u2500\u2500\u2500\u2500\u2500\u2500\u2500\u2500\u2500\u2500\u2500\u2500\u2500\u2500\u2500\u2500\u2500\u2500\u2500\u2500\u2500\u2500\u2500\u2500\u2500\u2500\u2510\n",
      "\u2502                                                            \u2502\n",
      "\u2502 \u2584\u2584   \u2584\u2584\u2584        \u2584\u2584\u2584\u2584\u2584                                  \u2502\n",
      "\u2502 \u2588\u2588  \u2588\u2588\u2580             \u2588\u2588\u2580\u2580\u2580\u2588\u2588               \u2588\u2588               \u2502\n",
      "\u2502 \u2588\u2588\u2584\u2588\u2588      \u2584\u2588\u2588\u2588\u2588\u2588\u2584 \u2588\u2588    \u2588\u2588   \u2584\u2588\u2588\u2588\u2588\u2588\u2584  \u2588\u2588\u2588\u2588\u2588\u2588\u2588    \u2584\u2588\u2588\u2588\u2588\u2588\u2584 \u2502\n",
      "\u2502 \u2588\u2588\u2588\u2588\u2588     \u2588\u2588\u2580    \u2580  \u2588\u2588    \u2588\u2588   \u2580 \u2584\u2584\u2584\u2588\u2588    \u2588\u2588       \u2580  \u2584\u2584\u2584\u2588\u2588 \u2502\n",
      "\u2502 \u2588\u2588  \u2588\u2588\u2584   \u2588\u2588        \u2588\u2588    \u2588\u2588  \u2584\u2588\u2588\u2580\u2580\u2580\u2588\u2588    \u2588\u2588      \u2584\u2588\u2588\u2580\u2580\u2580\u2588\u2588 \u2502\n",
      "\u2502 \u2588\u2588   \u2588\u2588\u2584  \u2580\u2588\u2588\u2584\u2584\u2584\u2584\u2588 \u2588\u2588\u2584\u2584\u2584\u2588\u2588   \u2588\u2588\u2584\u2584\u2584\u2588\u2588\u2588   \u2588\u2588\u2584\u2584\u2584   \u2588\u2588\u2584\u2584\u2584\u2588\u2588\u2588 \u2502\n",
      "\u2502 \u2580\u2580    \u2580\u2580    \u2580\u2580\u2580\u2580\u2580   \u2580\u2580\u2580\u2580\u2580      \u2580\u2580\u2580\u2580 \u2580\u2580    \u2580\u2580\u2580\u2580     \u2580\u2580\u2580\u2580 \u2580\u2580 \u2502\n",
      "\u2502                                                            \u2502\n",
      "\u2502                                                            \u2502\n",
      "\u2514\u2500\u2500\u2500\u2500\u2500\u2500\u2500\u2500\u2500\u2500\u2500\u2500\u2500\u2500\u2500\u2500\u2500\u2500\u2500\u2500\u2500\u2500\u2500\u2500\u2500\u2500\u2500\u2500\u2500\u2500\u2500\u2500\u2500\u2500\u2500\u2500\u2500\u2500\u2500\u2500\u2500\u2500\u2500\u2500\u2500\u2500\u2500\u2500\u2500\u2500\u2500\u2500\u2500\u2500\u2500\u2500\u2500\u2500\u2500\u2500\u2518\n",
      "By: Matt, Nick & Piero"
     ]
    },
    {
     "cell_type": "code",
     "collapsed": false,
     "input": [
      "# -*- coding: utf-8 -*-\n",
      "# <nbformat>3.0</nbformat>\n",
      "import matplotlib as mpl\n",
      "import matplotlib.pyplot as plt\n",
      "from matplotlib import animation\n",
      "\n",
      "import pandas as pd\n",
      "import numpy as np\n",
      "from pylab import *\n",
      "# JSAnimation import available at https://github.com/jakevdp/JSAnimation\n",
      "from JSAnimation import IPython_display\n",
      "\n",
      "\n",
      "#d = pd.read_csv('data/311data') #full set\n",
      "d = pd.read_csv('data/311data', nrows=1000) #limit to 1k rows for testing\n",
      "d = pd.DataFrame(d,columns=['creation_date', 'closed_date', 'latitude', 'longitude', 'request_type'])\n",
      "#d.sort(columns=['closed_date'], ascending=True, inplace=True) #do this after filtering to save on cycles\n",
      "\n",
      "#-1 is the value that find returns if it doesn't find the string\n",
      "#Filter the Dataset. Remove all rows without 'Water' in their request_type\n",
      "data = pd.DataFrame\n",
      "i = 0\n",
      "for index, row in d.iterrows():\n",
      "     if(\\\n",
      "       ( str.upper(row['request_type']).find('WATER') != -1 ) and\\\n",
      "       ( row['longitude']  !=0 ) and\\\n",
      "       ( row['latitude' ]  !=0 ) ):            \n",
      "            row_frame = pd.DataFrame([{'creation_date':row.creation_date,'closed_date':row.closed_date, 'longitude':row.longitude, 'latitude':row.latitude,'request_type':row.request_type }])\n",
      "            if i == 0: \n",
      "                data = row_frame\n",
      "                i+=1\n",
      "            else: \n",
      "                data = data.append(row_frame)\n",
      "\n",
      "#del d #relax d's memory usage\n",
      "data.sort(columns=['closed_date'], ascending=True, inplace=True)\n",
      "\n",
      "#assumes the data is sorted by closed_date                                      \n",
      "#assumes a 'data' DataFrame with latitude and longitude and closed_date columns \n",
      "#time is the percentage through the dataset                                     \n",
      "#global is used because this function is called from an implicit plot function  \n",
      "def getLatsAndLongsByTimePercentage(time, data, num_points = -12):\n",
      "    if (num_points == -12): num_points = len(data) / math.sqrt(len(data))\n",
      "    if (time > 1.0) or (time < 0.0): return 0                                   \n",
      "    start_index = int( len(data) * time )                                           \n",
      "    stop_index  = int( start_index + num_points )                                   \n",
      "    if (stop_index >= len(data)): stop_index = len(data) - 1\n",
      "    start_date = pd.DataFrame(data, columns=['closed_date']).values[start_index]\n",
      "    stop_date  = pd.DataFrame(data, columns=['closed_date']).values[stop_index] \n",
      "    lats = pd.DataFrame(data, columns=['latitude']).values[start_index : stop_index]\n",
      "    longs= pd.DataFrame(data, columns=['longitude']).values[start_index : stop_index]\n",
      "    return lats,longs,start_date,stop_date"
     ],
     "language": "python",
     "metadata": {},
     "outputs": [
      {
       "ename": "ImportError",
       "evalue": "No module named JSAnimation",
       "output_type": "pyerr",
       "traceback": [
        "\u001b[0;31m---------------------------------------------------------------------------\u001b[0m\n\u001b[0;31mImportError\u001b[0m                               Traceback (most recent call last)",
        "\u001b[0;32m<ipython-input-1-5406d9d531af>\u001b[0m in \u001b[0;36m<module>\u001b[0;34m()\u001b[0m\n\u001b[1;32m      9\u001b[0m \u001b[0;32mfrom\u001b[0m \u001b[0mpylab\u001b[0m \u001b[0;32mimport\u001b[0m \u001b[0;34m*\u001b[0m\u001b[0;34m\u001b[0m\u001b[0m\n\u001b[1;32m     10\u001b[0m \u001b[0;31m# JSAnimation import available at https://github.com/jakevdp/JSAnimation\u001b[0m\u001b[0;34m\u001b[0m\u001b[0;34m\u001b[0m\u001b[0m\n\u001b[0;32m---> 11\u001b[0;31m \u001b[0;32mfrom\u001b[0m \u001b[0mJSAnimation\u001b[0m \u001b[0;32mimport\u001b[0m \u001b[0mIPython_display\u001b[0m\u001b[0;34m\u001b[0m\u001b[0m\n\u001b[0m\u001b[1;32m     12\u001b[0m \u001b[0;34m\u001b[0m\u001b[0m\n\u001b[1;32m     13\u001b[0m \u001b[0;34m\u001b[0m\u001b[0m\n",
        "\u001b[0;31mImportError\u001b[0m: No module named JSAnimation"
       ]
      }
     ],
     "prompt_number": 1
    },
    {
     "cell_type": "code",
     "collapsed": false,
     "input": [
      "nFrames = 100#len(data) #animate's i goes from 0->nFrames\n",
      "interval = 40 #smaller intervals -> faster animations\n",
      "\n",
      "# create a simple animation\n",
      "fig = plt.figure(figsize=(20,12), facecolor='grey', edgecolor='grey')\n",
      "ax = plt.axes(xlim=(38.75, 39.5), ylim=(-95, -94))\n",
      "ax.grid(True, color='#EEEEEE', linestyle='solid')\n",
      "ax.set_axis_bgcolor('grey')\n",
      "#color=plt.cm.jet(np.random.rand()),\n",
      "points, = ax.plot([], [], 'o',\n",
      "                  alpha=.5,\n",
      "                  markerfacecolor = 'purple',\n",
      "                  markeredgecolor = 'violet',\n",
      "                  markersize=50,\n",
      "                  markeredgewidth=20)\n",
      "\n",
      "def init():\n",
      "    points.set_data([], [])\n",
      "    return points,\n",
      "\n",
      "#time doesn't go to the end of the dataset. the more frames, the more gets left off\n",
      "#needs to be 1+num_frames_dropped\n",
      "#(the extra frame is to compensate for 0-indexing)\n",
      "def animate(i):        \n",
      "    time = (i*1.0) / (nFrames+14) \n",
      "    #print i, time\n",
      "    lats, longs, start_date, stop_date = getLatsAndLongsByTimePercentage(time, data)\n",
      "    points.set_data(lats, longs)\n",
      "    return points,\n",
      "\n",
      "animation.FuncAnimation(fig, animate, init_func=init, frames=nFrames, interval=interval, blit=True)"
     ],
     "language": "python",
     "metadata": {},
     "outputs": []
    }
   ],
   "metadata": {}
  }
 ]
}