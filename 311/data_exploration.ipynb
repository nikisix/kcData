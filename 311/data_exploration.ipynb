{
 "metadata": {
  "name": "",
  "signature": "sha256:3e55db65eecad3e5565ad7fdee142c3c4ff621b81c237c46c09dd438d7c9d90e"
 },
 "nbformat": 3,
 "nbformat_minor": 0,
 "worksheets": [
  {
   "cells": [
    {
     "cell_type": "code",
     "collapsed": false,
     "input": [
      "import matplotlib as mpl\n",
      "import matplotlib.pyplot as plt\n",
      "import matplotlib.image as mpimg\n",
      "from matplotlib import animation\n",
      "from mpl_toolkits.basemap import Basemap\n",
      "\n",
      "import pymc as pm\n",
      "import pandas as pd\n",
      "import numpy as np\n",
      "import pydot\n",
      "import scipy.misc\n",
      "\n",
      "# from pylab import *\n",
      "# JSAnimation import available at https://github.com/jakevdp/JSAnimation\n",
      "# from JSAnimation import IPython_display\n",
      "\n",
      "#d = pd.read_csv('data/311data') #full set\n",
      "d = pd.read_csv('data/311data')#, nrows=100) #limit to 1k rows for testing\n",
      "#d = pd.DataFrame(d, columns=['closed_date','work_group'])\n",
      "\n",
      "#-1 is the value that find returns if it doesn't find the string\n",
      "#Filter the Dataset. Remove all rows without 'Water' in their request_type\n",
      "dt_index = pd.DatetimeIndex(pd.to_datetime(d.closed_date))\n",
      "d = d.set_index(dt_index)\n",
      "# filter some records\n",
      "# d=d.loc[d['department']=='Water Services']\n",
      "# print('Water Services [department] calls: '+str(len(d)))\n",
      "# d=d.loc[d['work_group'].str.contains('Maintenance')]\n",
      "# print('Maintenance [work group] calls: '+str(len(d)))\n",
      "# d=d.loc[d['status']!='CANC']"
     ],
     "language": "python",
     "metadata": {},
     "outputs": [
      {
       "output_type": "stream",
       "stream": "stdout",
       "text": [
        "Couldn't import dot_parser, loading of dot files will not be possible.\n"
       ]
      }
     ],
     "prompt_number": 1
    },
    {
     "cell_type": "code",
     "collapsed": false,
     "input": [
      "d.columns"
     ],
     "language": "python",
     "metadata": {},
     "outputs": [
      {
       "metadata": {},
       "output_type": "pyout",
       "prompt_number": 2,
       "text": [
        "Index([u'Unnamed: 0', u'address_with_geocode', u'case_id', u'closed_date', u'closed_month', u'closed_year', u'council_district', u'creation_date', u'creation_month', u'creation_year', u'customer_service', u'days_to_close', u'department', u'exceeded_est_timeframe', u'latitude', u'longitude', u'neighborhood', u'parcel_id_no', u'quality_of_service', u'request_type', u'source', u'status', u'street_address', u'timeliness_of_service', u'work_group', u'xcoordinate', u'ycoordinate', u'zip_code'], dtype='object')"
       ]
      }
     ],
     "prompt_number": 2
    },
    {
     "cell_type": "code",
     "collapsed": false,
     "input": [
      "1.0*len(d[d.exceeded_est_timeframe == 'Y']) / len(d)"
     ],
     "language": "python",
     "metadata": {},
     "outputs": [
      {
       "metadata": {},
       "output_type": "pyout",
       "prompt_number": 3,
       "text": [
        "0.24037641340037938"
       ]
      }
     ],
     "prompt_number": 3
    },
    {
     "cell_type": "code",
     "collapsed": false,
     "input": [
      "d2 = pd.crosstab(d.closed_date, d.work_group).sum()"
     ],
     "language": "python",
     "metadata": {},
     "outputs": [],
     "prompt_number": 4
    },
    {
     "cell_type": "code",
     "collapsed": false,
     "input": [
      "d2.sort(ascending = False)"
     ],
     "language": "python",
     "metadata": {},
     "outputs": [],
     "prompt_number": 5
    },
    {
     "cell_type": "code",
     "collapsed": false,
     "input": [
      "print d2[:50]"
     ],
     "language": "python",
     "metadata": {},
     "outputs": [
      {
       "output_type": "stream",
       "stream": "stdout",
       "text": [
        "work_group\n",
        "Public Works-Solid Waste-                          171143\n",
        "NCS-Neighborhood Preservation-                     137247\n",
        "NCS-Animal Health and Safety-                       77585\n",
        "Water Services-Meter & Field Services-              42295\n",
        "Parks & Rec-Landscape Services-Forestry             26989\n",
        "Public Works-Solid Waste-Administration             22623\n",
        "Water Services-Line Maintenance-Pipeline            20853\n",
        "Public Works-Street and Traffic-Snow                20384\n",
        "Public Works-Street and Traffic-Streetlights        19337\n",
        "Water Services-Line Maintenance-Wastewater          16191\n",
        "KCPD-Parking Control-                               15075\n",
        "Public Works-Street and Traffic-Signs               14231\n",
        "NCS-Dangerous Buildings-                            11903\n",
        "Water Services-Line Maintenance-Stormwater          11669\n",
        "Public Works-Street and Traffic-District 3          11132\n",
        "NCS-Neighborhood Preservation-Open Entry            10493\n",
        "Public Works-Street and Traffic-District 2           8310\n",
        "Public Works-Street and Traffic-Traffic Signals      8084\n",
        "Health-Rat-                                          6923\n",
        "Public Works-Street and Traffic-District 1           6590\n",
        "Public Works-Street and Traffic-Traffic Control      5236\n",
        "City Planning and Development-Investigations-        5103\n",
        "NCS-Neighborhood Preservation-LT List                4803\n",
        "Parks & Rec-Landscape Services-Weeds                 4319\n",
        "Public Works-Street and Traffic-Sidewalks            3179\n",
        "City Managers Office-Action Center-Support           2745\n",
        "Water Services-Line Maintenance-Restoration          2718\n",
        "Public Works-Street and Traffic-Preservation         2697\n",
        "Water Services-Reading-                              2517\n",
        "NCS-Neighborhood Preservation-Illegal Dumping        2413\n",
        "Public Works-Parking Division-                       2271\n",
        "Water Services-Administration-                       2232\n",
        "NCS-Animal Health and Safety-Admin                   2131\n",
        "City Managers Office-Action Center-                  2091\n",
        "Public Works-Street and Traffic-Traffic Permits      2030\n",
        "NCS-Tow Services-                                    2018\n",
        "Health-Food Protection-                              1988\n",
        "Water Services-Laboratory Services-                  1929\n",
        "NCS-HazardousStructure                               1621\n",
        "NCS-Animal Health and Safety-Jackson County          1584\n",
        "Parks & Rec-Central Region-                          1403\n",
        "Public Works-Snow and Ice-Administration             1281\n",
        "Water Services-Engineering-Water and Sewer           1244\n",
        "Health--                                             1210\n",
        "Public Works-Administration-                         1147\n",
        "Parks & Rec-North Region-                            1133\n",
        "Public Works-Street and Traffic-Rural Mowing         1062\n",
        "Water Services-Facility-Engineering                  1051\n",
        "NCS-Neighborhood Preservation-Abatement               993\n",
        "Health-Noise Control-                                 981\n",
        "dtype: int64\n"
       ]
      }
     ],
     "prompt_number": 6
    },
    {
     "cell_type": "code",
     "collapsed": false,
     "input": [
      "from sklearn.cluster import AgglomerativeClustering\n",
      "ac = AgglomerativeClustering(n_clusters=10).fit()"
     ],
     "language": "python",
     "metadata": {},
     "outputs": [],
     "prompt_number": 17
    }
   ],
   "metadata": {}
  }
 ]
}