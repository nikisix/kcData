{
 "metadata": {
  "name": ""
 },
 "nbformat": 3,
 "nbformat_minor": 0,
 "worksheets": [
  {
   "cells": [
    {
     "cell_type": "code",
     "collapsed": false,
     "input": [
      "import pandas as pd\n",
      "import matplotlib as mpl\n",
      "from mpl_toolkits.basemap import Basemap\n",
      "import matplotlib.pyplot as plt\n",
      "import numpy as np"
     ],
     "language": "python",
     "metadata": {},
     "outputs": [],
     "prompt_number": 22
    },
    {
     "cell_type": "code",
     "collapsed": false,
     "input": [
      "d = pd.read_csv('data/311data', nrows=1000)\n",
      "#d = pd.read_csv('data/311data')"
     ],
     "language": "python",
     "metadata": {},
     "outputs": [],
     "prompt_number": 13
    },
    {
     "cell_type": "code",
     "collapsed": false,
     "input": [
      "d = pd.DataFrame(d,columns=['creation_date', 'closed_date', 'latitude', 'longitude', 'request_type'])"
     ],
     "language": "python",
     "metadata": {},
     "outputs": [],
     "prompt_number": 14
    },
    {
     "cell_type": "code",
     "collapsed": false,
     "input": [
      "#d.request_type.value_counts()[0:20] #highest request types"
     ],
     "language": "python",
     "metadata": {},
     "outputs": [],
     "prompt_number": 15
    },
    {
     "cell_type": "code",
     "collapsed": false,
     "input": [
      "#-1 is the value that find returns if it doesn't find the string\n",
      "#Filter the Dataset. Remove all rows without 'Water' in their request_type\n",
      "data = pd.DataFrame\n",
      "i = 0\n",
      "for index, row in d.iterrows():\n",
      "     if(\\\n",
      "       ( str.upper(row['request_type']).find('WATER') != -1 ) and\\\n",
      "       ( row['longitude']  !=0 ) and\\\n",
      "       ( row['latitude' ]  !=0 ) ):            \n",
      "            row_frame = pd.DataFrame([{'creation_date':row.creation_date,'closed_date':row.closed_date, 'longitude':row.longitude, 'latitude':row.latitude,'request_type':row.request_type }])\n",
      "            if i == 0: \n",
      "                data = row_frame\n",
      "                i+=1\n",
      "            else: \n",
      "                data = data.append(row_frame)"
     ],
     "language": "python",
     "metadata": {},
     "outputs": [],
     "prompt_number": 16
    },
    {
     "cell_type": "code",
     "collapsed": false,
     "input": [
      "del d #relax d's memory usage\n",
      "data.sort(columns=['closed_date'], ascending=True, inplace=True) #takes ~5min w/ full dataset"
     ],
     "language": "python",
     "metadata": {},
     "outputs": [],
     "prompt_number": 17
    },
    {
     "cell_type": "code",
     "collapsed": false,
     "input": [
      "print len(data)"
     ],
     "language": "python",
     "metadata": {},
     "outputs": [
      {
       "output_type": "stream",
       "stream": "stdout",
       "text": [
        "46\n"
       ]
      }
     ],
     "prompt_number": 18
    },
    {
     "cell_type": "code",
     "collapsed": false,
     "input": [
      "#assumes the data is sorted by closed_date                                      \n",
      "#assumes a 'data' DataFrame with latitude and longitude and closed_date columns \n",
      "#time is the percentage through the dataset                                     \n",
      "#global is used because this function is called from an implicit plot function  \n",
      "def getLatsAndLongsByTimePercentage(time, data, num_points = -12):\n",
      "    if (num_points == -12): num_points = len(data) / math.sqrt(len(data))\n",
      "    if (time > 1.0) or (time < 0.0): return 0                                   \n",
      "    start_index = int( len(data) * time )                                           \n",
      "    stop_index  = int( start_index + num_points )                                   \n",
      "    if (stop_index >= len(data)): stop_index = len(data) - 1\n",
      "    start_date = pd.DataFrame(data, columns=['closed_date']).values[start_index]\n",
      "    stop_date  = pd.DataFrame(data, columns=['closed_date']).values[stop_index] \n",
      "    lats = pd.DataFrame(data, columns=['latitude']).values[start_index : stop_index]\n",
      "    longs= pd.DataFrame(data, columns=['longitude']).values[start_index : stop_index]\n",
      "    return lats,longs,start_date,stop_date"
     ],
     "language": "python",
     "metadata": {},
     "outputs": [],
     "prompt_number": 19
    },
    {
     "cell_type": "raw",
     "metadata": {},
     "source": [
      "HEATMAP from http://matplotlib.org/basemap/users/examples.html"
     ]
    },
    {
     "cell_type": "code",
     "collapsed": false,
     "input": [
      "plt.figure(figsize=(24,12))\n",
      "\n",
      "map = Basemap(projection='merc', lat_0=39, lon_0=-94,\n",
      "    resolution = 'l', area_thresh = 3000.0,\n",
      "    llcrnrlon=-94.75, llcrnrlat=38.8,\n",
      "    urcrnrlon=-94.3, urcrnrlat=39.35)\n",
      "\n",
      "#map.drawcounties()\n",
      "#map.drawstates()\n",
      "map.drawrivers()\n",
      "\n",
      "lons = data.longitude.values\n",
      "lats = data.latitude.values\n",
      "x,y = map(lons, lats)\n",
      "map.plot(x, y, 'ro',fillstyle='none', markersize=5)\n",
      " \n",
      "plt.show()"
     ],
     "language": "python",
     "metadata": {},
     "outputs": [
      {
       "metadata": {},
       "output_type": "display_data",
       "png": "[encoded data removed]",
       "text": [
        "<matplotlib.figure.Figure at 0x7f98dfe9dc10>"
       ]
      }
     ],
     "prompt_number": 20
    }
   ],
   "metadata": {}
  }
 ]
}