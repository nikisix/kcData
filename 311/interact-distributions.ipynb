{
 "metadata": {
  "name": ""
 },
 "nbformat": 3,
 "nbformat_minor": 0,
 "worksheets": [
  {
   "cells": [
    {
     "cell_type": "raw",
     "metadata": {},
     "source": [
      "\u2591\u2588\u2591\u2588\u2591\u2588\u2580\u2580\u2591\u2588\u2580\u2584\u2591\u2588\u2591\u2588\u2591\u2588\u2580\u2584\u2591\u2588\u2580\u2580\u2591\u2580\u2588\u2580\n",
      "\u2591\u2588\u2580\u2584\u2591\u2588\u2591\u2591\u2591\u2588\u2580\u2584\u2591\u2588\u2591\u2588\u2591\u2588\u2580\u2584\u2591\u2580\u2580\u2588\u2591\u2591\u2588\u2591\n",
      "\u2591\u2580\u2591\u2580\u2591\u2580\u2580\u2580\u2591\u2580\u2580\u2591\u2591\u2580\u2580\u2580\u2591\u2580\u2591\u2580\u2591\u2580\u2580\u2580\u2591\u2591\u2580\u2591\n",
      "Where will the next KC water pipe break?\n",
      "\n",
      "Bayesian Statistical Modeling using:\n",
      " \u2584\u2584\u2584  \u2584\u2584\u2584 \n",
      " \u2588\u2588\u2588  \u2588\u2588\u2588 \n",
      " \u2588\u2588\u2588\u2588\u2588\u2588\u2588\u2588 \n",
      " \u2588\u2588 \u2588\u2588 \u2588\u2588 \n",
      " \u2588\u2588 \u2580\u2580 \u2588\u2588 \n",
      " \u2588\u2588    \u2588\u2588 arkov\n",
      " \u2580\u2580    \u2580\u2580  \n",
      "    \u2584\u2584\u2584\u2584  \n",
      "  \u2588\u2588\u2580\u2580\u2580\u2580\u2588 \n",
      " \u2588\u2588\u2580      \n",
      " \u2588\u2588       \n",
      " \u2588\u2588\u2584      \n",
      "  \u2588\u2588\u2584\u2584\u2584\u2584\u2588 hain\n",
      "    \u2580\u2580\u2580\u2580 \n",
      " \u2584\u2584\u2584  \u2584\u2584\u2584 \n",
      " \u2588\u2588\u2588  \u2588\u2588\u2588 \n",
      " \u2588\u2588\u2588\u2588\u2588\u2588\u2588\u2588 \n",
      " \u2588\u2588 \u2588\u2588 \u2588\u2588 \n",
      " \u2588\u2588 \u2580\u2580 \u2588\u2588 \n",
      " \u2588\u2588    \u2588\u2588 onte\n",
      " \u2580\u2580    \u2580\u2580\n",
      "    \u2584\u2584\u2584\u2584  \n",
      "  \u2588\u2588\u2580\u2580\u2580\u2580\u2588 \n",
      " \u2588\u2588\u2580      \n",
      " \u2588\u2588       \n",
      " \u2588\u2588\u2584      \n",
      "  \u2588\u2588\u2584\u2584\u2584\u2584\u2588 arlo\n",
      "    \u2580\u2580\u2580\u2580  \n",
      "\n",
      "by: Nick Tomasino"
     ]
    },
    {
     "cell_type": "code",
     "collapsed": false,
     "input": [
      "# -*- coding: utf-8 -*-\n",
      "# <nbformat>3.0</nbformat>\n",
      "import matplotlib as mpl\n",
      "import matplotlib.pyplot as plt\n",
      "import matplotlib.image as mpimg\n",
      "from matplotlib import animation\n",
      "from mpl_toolkits.basemap import Basemap\n",
      "\n",
      "import pymc as pm\n",
      "import pandas as pd\n",
      "import numpy as np\n",
      "import pydot\n",
      "import scipy.misc\n",
      "%matplotlib inline\n",
      "\n",
      "# from pylab import *\n",
      "# JSAnimation import available at https://github.com/jakevdp/JSAnimation\n",
      "# from JSAnimation import IPython_display"
     ],
     "language": "python",
     "metadata": {},
     "outputs": [],
     "prompt_number": 10
    },
    {
     "cell_type": "code",
     "collapsed": false,
     "input": [
      "\"\"\"\n",
      " \u28cf\u2849 \u28b9\u2801 \u2847 \n",
      " \u2827\u2824 \u2838  \u2827\u2824\n",
      "\"\"\"\n",
      "\n",
      "#d = pd.read_csv('data/311data') #full set\n",
      "d = pd.read_csv('data/311data', nrows=1000) #limit to 1k rows for testing\n",
      "d = pd.DataFrame(d, columns=['creation_date', 'closed_date', 'latitude', 'longitude', 'request_type'])\n",
      "#d.sort(columns=['closed_date'], ascending=True, inplace=True) #do this after filtering to save on cycles\n",
      "\n",
      "#-1 is the value that find returns if it doesn't find the string\n",
      "#Filter the Dataset. Remove all rows without 'Water' in their request_type\n",
      "data = pd.DataFrame\n",
      "i = 0\n",
      "for index, row in d.iterrows():\n",
      "     if(\\\n",
      "       ( str.upper(row['request_type']).find('WATER') != -1 ) and\\\n",
      "       ( row['longitude']  !=0 ) and\\\n",
      "       ( row['latitude' ]  !=0 ) ):            \n",
      "            row_frame = pd.DataFrame([{'creation_date':row.creation_date, 'closed_date':row.closed_date, 'longitude':row.longitude, 'latitude':row.latitude, 'request_type':row.request_type }])\n",
      "            if i == 0: \n",
      "                data = row_frame\n",
      "                i+=1\n",
      "            else: \n",
      "                data = data.append(row_frame)\n",
      "\n",
      "del d #relax d's memory usage\n",
      "data.sort(columns=['closed_date'], ascending=True, inplace=True)\n",
      "dt_index = pd.DatetimeIndex(pd.to_datetime(data.closed_date))\n",
      "data = data.set_index(dt_index)\n",
      "#data['2009-12-31':'2010-1-31'] #works :)"
     ],
     "language": "python",
     "metadata": {},
     "outputs": [],
     "prompt_number": 11
    },
    {
     "cell_type": "code",
     "collapsed": false,
     "input": [
      "\"\"\"\n",
      " \u28b9\u2801 \u2880\u2840 \u2880\u28c0 \u2880\u2840 \u2847 \u2880\u28c0 \u28f0\u2840 \u2880\u2840\n",
      " \u2838  \u2823\u282d \u282d\u2815 \u2823\u282d \u2823 \u2823\u283c \u2818\u2824 \u2823\u282d\n",
      "\"\"\"\n",
      "#xlim=(38.75, 39.5), latitudes\n",
      "#ylim=(-95, -94)),   longitudes\n",
      "#    llcrnrlon=-94.75, llcrnrlat=38.8,\n",
      "#    urcrnrlon=-94.3, urcrnrlat=39.35)\n",
      "\"\"\"\n",
      "LAT_BEGIN = 38.75\n",
      "LAT_END   = 39.5\n",
      "LON_BEGIN = -96\n",
      "LON_END   = -95\n",
      "\"\"\"\n",
      "LAT_BEGIN = 38.8\n",
      "LAT_END   = 39.35\n",
      "LON_BEGIN = -94.75\n",
      "LON_END   = -94.3\n",
      "N_STEPS   = 3\n",
      "lat_steps = np.linspace(LAT_BEGIN, LAT_END, N_STEPS)\n",
      "lon_steps = np.linspace(LON_BEGIN, LON_END, N_STEPS)\n",
      "\"\"\"\n",
      "the grid variable represents quadrants of latitude and longitude\n",
      "i.e. a 3x3 grid of squares at every point in time\n",
      "-95.0 38.75 - grid[0]\n",
      "-95.5 38.75 - grid[1]\n",
      "-96.0 38.75 - ...\n",
      "-95.0 39.125\n",
      "-95.5 39.125\n",
      "-96.0 39.125\n",
      "-95.0 39.5\n",
      "-95.5 39.5\n",
      "-96.0 39.5 - grid[8]\n",
      "\"\"\"\n",
      "#returns the grid indicies for a particular geo point\n",
      "#N_STEPS-1 => one to compensate the +1 lookahead\n",
      "def in_square(lat, lon, lat_steps, lon_steps):\n",
      "    if(lon <= lon_steps[0]):           lon_index = 0\n",
      "    elif(lon_steps[N_STEPS-1] <= lon): lon_index = N_STEPS-1\n",
      "    else:\n",
      "        for x in range(0, N_STEPS - 1):\n",
      "            if(lon_steps[x] <= lon <= lon_steps[x+1]):  lon_index = x\n",
      "   \n",
      "    if(lat <= lat_steps[0]):           lat_index = 0\n",
      "    elif(lat_steps[N_STEPS-1] <= lat): lat_index = N_STEPS-1            \n",
      "    else:\n",
      "        for y in range(0, N_STEPS - 1): \n",
      "            if(lat_steps[y] <= lat <= lat_steps[y+1]):  lat_index = y\n",
      "    return lat_index, lon_index\n",
      "\n",
      "\"\"\"grid_split [] [] / [] [] / [] []\n",
      "input:  lats - list of latitudes on day d\n",
      "        lons - list of longitudes on day d\n",
      "        \n",
      "output: count for each square\n",
      "[1] [3] / [2] [1] / [0] [1]\n",
      "\"\"\"\n",
      "def grid_split_2d(lat_steps, lon_steps, day_data):\n",
      "    grid = np.zeros((len(lat_steps), len(lon_steps)))\n",
      "    for i, row in day_data.iterrows():\n",
      "        lat_index, lon_index = in_square(row.latitude, row.longitude, lat_steps, lon_steps)\n",
      "        grid[lat_index, lon_index] += 1\n",
      "    return grid\n",
      "\n",
      "\"\"\"returns a 1d grid in array form\"\"\"\n",
      "def grid_split_1d(lat_steps, lon_steps, day_data):\n",
      "    grid = np.zeros((len(lat_steps) * len(lon_steps))) #changed to ndarray\n",
      "    for i, row in day_data.iterrows():\n",
      "        lat_index, lon_index = in_square(row.latitude, row.longitude, lat_steps, lon_steps)\n",
      "        grid[(N_STEPS*lat_index) + lon_index] += 1 #could also be len(lon_steps)*lat_index\n",
      "    return grid\n",
      "\n",
      "#uses the two functions above to generate a grid dictionary from the data frame\n",
      "def grid2d_from_data(data, grid2d = dict()):\n",
      "    for date_index in data.index:    \n",
      "        if (pd.isnull(date_index)): continue #last few rows are always NaT (Not a Time) :(\n",
      "        day_data = data[str(date_index)]\n",
      "        grid2d[date_index] = grid_split_2d(lat_steps, lon_steps, day_data)\n",
      "    return grid2d\n",
      "\n",
      "def grid1d_from_data(data, grid1d = dict()):\n",
      "    for date_index in data.index:    \n",
      "        if (pd.isnull(date_index)): continue #last few rows are always NaT (Not a Time) :(\n",
      "        day_data = data[str(date_index)]\n",
      "        grid1d[date_index] = grid_split_1d(lat_steps, lon_steps, day_data)\n",
      "    return grid1d"
     ],
     "language": "python",
     "metadata": {},
     "outputs": [],
     "prompt_number": 12
    },
    {
     "cell_type": "code",
     "collapsed": false,
     "input": [
      "grid1d = dict()\n",
      "grid1d = grid1d_from_data(data, grid1d = grid1d)"
     ],
     "language": "python",
     "metadata": {},
     "outputs": [],
     "prompt_number": 13
    },
    {
     "cell_type": "code",
     "collapsed": false,
     "input": [
      "grid2d = dict()\n",
      "grid2d = grid2d_from_data(data, grid2d=grid2d)"
     ],
     "language": "python",
     "metadata": {},
     "outputs": [],
     "prompt_number": 14
    },
    {
     "cell_type": "code",
     "collapsed": false,
     "input": [
      "\"\"\"\n",
      " \u28cf\u2871 \u2880\u28c0 \u2840\u2880 \u2880\u2840 \u2880\u28c0 \u2804 \u2880\u28c0 \u28c0\u2840   \u2877\u28be \u2880\u2840 \u2880\u28f8 \u2880\u2840 \u2847 \u2804 \u28c0\u2840 \u2880\u2840\n",
      " \u2827\u281c \u2823\u283c \u28d1\u287a \u2823\u282d \u282d\u2815 \u2807 \u2823\u283c \u2807\u2838   \u2807\u2838 \u2823\u281c \u2823\u283c \u2823\u282d \u2823 \u2807 \u2807\u2838 \u28d1\u287a\n",
      "\"\"\"\n",
      "#uniform prior (all ones), either this or discrete_uniform\n",
      "#unif = pm.DiscreteUniform('unif', 0, 1, size=[1,N_STEPS**2] )\n",
      "#alpha = unif.random()\n",
      "alpha = np.ones(N_STEPS**2)\n",
      "dirich = pm.Dirichlet('dirich', theta = alpha)\n",
      "\n",
      "\n",
      "#initialize with n equal to the average of the daily count data\n",
      "total = sum(data.groupby('closed_date')['request_type'].count())\n",
      "num_elements = len(data.groupby('closed_date'))\n",
      "avg_calls_per_day = total / num_elements\n",
      "\n",
      "expon = pm.Exponential('expon', beta = avg_calls_per_day)\n",
      "\n",
      "#set n = to poison centered on n\n",
      "#poisson = pm.Poisson('poisson', mu = avg_calls_per_day)\n",
      "#poisson = pm.Poisson('poisson', mu = avg_calls_per_day, observed=True,\n",
      "#                      value = [ np.sum(grid1d.values()[i]) for i in range( 0, len(grid1d.values()) ) ])\n",
      "\n",
      "#\"value =\" is where the data comes in. adding up all values in the grid to get the poisson count for that day\n",
      "poisson = pm.Poisson('poisson', mu = expon, observed=True,\n",
      "                      value = [ np.sum(grid1d.values()[i]) for i in range( 0, len(grid1d.values()) ) ])\n",
      "\n",
      "\n",
      "#multi = pm.Multinomial('multi', n=poisson, p=dirich, value=grid1d.values(), observed=True) #want to do this\n",
      "#multi = pm.Multinomial('multi', n=poisson, p=dirich) #works\n",
      "#multi = pm.Multinomial('multi', n=poisson, p=dirich, value=[0,0,0,0,0,0,1,1,1], observed=True) #works when n == sum(value)\n",
      "\n",
      "\"\"\"\n",
      "multi = pm.Multinomial('multi', p=dirich, observed=True, \n",
      "                        n = [ np.sum(grid1d.values()[i]) for i in range( 0, len(grid1d.values()) ) ] , \n",
      "                        value = [ grid1d.values()[i] for i in range( 0, len(grid1d.values()) ) ] )\n",
      "model = pm.Model([multi, dirich], name = 'model')\n",
      "\"\"\"\n",
      "\n",
      "#similar to the poisson's 'value =' except each grid get's it's own daily count, \n",
      "#instead of adding all of the grid-squares together\n",
      "multi = pm.Multinomial('multi', p=dirich, observed=True, \n",
      "                        n =  poisson, \n",
      "                        value = [ grid1d.values()[i] for i in range( 0, len(grid1d.values()) ) ] )\n",
      "model = pm.Model([multi, dirich, poisson, expon], name = 'model')\n"
     ],
     "language": "python",
     "metadata": {},
     "outputs": [],
     "prompt_number": 15
    },
    {
     "cell_type": "code",
     "collapsed": false,
     "input": [
      "mcmc = pm.MCMC(model)\n",
      "mcmc.sample(40000, 10000, 1)"
     ],
     "language": "python",
     "metadata": {},
     "outputs": [
      {
       "output_type": "stream",
       "stream": "stdout",
       "text": [
        "\r",
        " [--                6%                  ] 2559 of 40000 complete in 0.5 sec"
       ]
      },
      {
       "output_type": "stream",
       "stream": "stdout",
       "text": [
        "\r",
        " [----             12%                  ] 4992 of 40000 complete in 1.0 sec"
       ]
      },
      {
       "output_type": "stream",
       "stream": "stdout",
       "text": [
        "\r",
        " [-------          18%                  ] 7415 of 40000 complete in 1.5 sec"
       ]
      },
      {
       "output_type": "stream",
       "stream": "stdout",
       "text": [
        "\r",
        " [---------        24%                  ] 9904 of 40000 complete in 2.0 sec"
       ]
      },
      {
       "output_type": "stream",
       "stream": "stdout",
       "text": [
        "\r",
        " [-----------      29%                  ] 11974 of 40000 complete in 2.5 sec"
       ]
      },
      {
       "output_type": "stream",
       "stream": "stdout",
       "text": [
        "\r",
        " [-------------    35%                  ] 14006 of 40000 complete in 3.0 sec"
       ]
      },
      {
       "output_type": "stream",
       "stream": "stdout",
       "text": [
        "\r",
        " [---------------  39%                  ] 15877 of 40000 complete in 3.5 sec"
       ]
      },
      {
       "output_type": "stream",
       "stream": "stdout",
       "text": [
        "\r",
        " [---------------- 43%                  ] 17530 of 40000 complete in 4.0 sec"
       ]
      },
      {
       "output_type": "stream",
       "stream": "stdout",
       "text": [
        "\r",
        " [-----------------47%                  ] 18893 of 40000 complete in 4.5 sec"
       ]
      },
      {
       "output_type": "stream",
       "stream": "stdout",
       "text": [
        "\r",
        " [-----------------51%                  ] 20462 of 40000 complete in 5.0 sec"
       ]
      },
      {
       "output_type": "stream",
       "stream": "stdout",
       "text": [
        "\r",
        " [-----------------55%                  ] 22049 of 40000 complete in 5.5 sec"
       ]
      },
      {
       "output_type": "stream",
       "stream": "stdout",
       "text": [
        "\r",
        " [-----------------59%--                ] 23964 of 40000 complete in 6.0 sec"
       ]
      },
      {
       "output_type": "stream",
       "stream": "stdout",
       "text": [
        "\r",
        " [-----------------63%----              ] 25573 of 40000 complete in 6.5 sec"
       ]
      },
      {
       "output_type": "stream",
       "stream": "stdout",
       "text": [
        "\r",
        " [-----------------68%------            ] 27513 of 40000 complete in 7.0 sec"
       ]
      },
      {
       "output_type": "stream",
       "stream": "stdout",
       "text": [
        "\r",
        " [-----------------73%-------           ] 29464 of 40000 complete in 7.5 sec"
       ]
      },
      {
       "output_type": "stream",
       "stream": "stdout",
       "text": [
        "\r",
        " [-----------------78%---------         ] 31484 of 40000 complete in 8.0 sec"
       ]
      },
      {
       "output_type": "stream",
       "stream": "stdout",
       "text": [
        "\r",
        " [-----------------82%-----------       ] 33078 of 40000 complete in 8.5 sec"
       ]
      },
      {
       "output_type": "stream",
       "stream": "stdout",
       "text": [
        "\r",
        " [-----------------86%------------      ] 34405 of 40000 complete in 9.0 sec"
       ]
      },
      {
       "output_type": "stream",
       "stream": "stdout",
       "text": [
        "\r",
        " [-----------------90%--------------    ] 36133 of 40000 complete in 9.5 sec"
       ]
      },
      {
       "output_type": "stream",
       "stream": "stdout",
       "text": [
        "\r",
        " [-----------------94%---------------   ] 37876 of 40000 complete in 10.0 sec"
       ]
      },
      {
       "output_type": "stream",
       "stream": "stdout",
       "text": [
        "\r",
        " [-----------------99%----------------- ] 39743 of 40000 complete in 10.5 sec"
       ]
      },
      {
       "output_type": "stream",
       "stream": "stdout",
       "text": [
        "\r",
        " [-----------------100%-----------------] 40000 of 40000 complete in 10.6 sec"
       ]
      }
     ],
     "prompt_number": 16
    },
    {
     "cell_type": "code",
     "collapsed": false,
     "input": [
      "dirich_samples = mcmc.trace('dirich')[:]\n",
      "expon_sapmples = mcmc.trace('expon')[:]\n",
      "#no samples from these last two b/c they're observed\n",
      "#poisson_samples = mcmc.trace('poisson1')[:]\n",
      "#multi_samples = mcmc.trace('multi')[:]"
     ],
     "language": "python",
     "metadata": {},
     "outputs": [],
     "prompt_number": 17
    },
    {
     "cell_type": "code",
     "collapsed": false,
     "input": [
      "#create new model of with unobserved data using our _posteriors_ from MCMC above\n",
      "#sampling from this model is like sampling an artificial dataset tuned to our data\n",
      "poisson1 = pm.Poisson('poisson1', mu = expon)\n",
      "\n",
      "multi1 = pm.Multinomial('multi1', n=poisson1, p=dirich) #works\n",
      "\n",
      "model1 = pm.Model([multi1, dirich, poisson1, expon], name = 'model1')"
     ],
     "language": "python",
     "metadata": {},
     "outputs": [],
     "prompt_number": 18
    },
    {
     "cell_type": "code",
     "collapsed": false,
     "input": [
      "mcmc1 = pm.MCMC(model1)\n",
      "mcmc1.sample(40000, 10000, 1)\n",
      "#dirich_samples = mcmc.trace('dirich')[:]\n",
      "#expon_sapmples = mcmc.trace('expon')[:]\n",
      "\n",
      "#CAN sample from these now b/c they're observed\n",
      "poisson1_samples = mcmc1.trace('poisson1')[:]\n",
      "multi1_samples = mcmc1.trace('multi1')[:]"
     ],
     "language": "python",
     "metadata": {},
     "outputs": [
      {
       "output_type": "stream",
       "stream": "stdout",
       "text": [
        "\r",
        " [-                 2%                  ] 1145 of 40000 complete in 0.5 sec"
       ]
      },
      {
       "output_type": "stream",
       "stream": "stdout",
       "text": [
        "\r",
        " [--                5%                  ] 2175 of 40000 complete in 1.0 sec"
       ]
      },
      {
       "output_type": "stream",
       "stream": "stdout",
       "text": [
        "\r",
        " [--                7%                  ] 3155 of 40000 complete in 1.5 sec"
       ]
      },
      {
       "output_type": "stream",
       "stream": "stdout",
       "text": [
        "\r",
        " [----             10%                  ] 4214 of 40000 complete in 2.0 sec"
       ]
      },
      {
       "output_type": "stream",
       "stream": "stdout",
       "text": [
        "\r",
        " [-----            13%                  ] 5305 of 40000 complete in 2.5 sec"
       ]
      },
      {
       "output_type": "stream",
       "stream": "stdout",
       "text": [
        "\r",
        " [-----            15%                  ] 6292 of 40000 complete in 3.0 sec"
       ]
      },
      {
       "output_type": "stream",
       "stream": "stdout",
       "text": [
        "\r",
        " [-------          18%                  ] 7403 of 40000 complete in 3.5 sec"
       ]
      },
      {
       "output_type": "stream",
       "stream": "stdout",
       "text": [
        "\r",
        " [--------         21%                  ] 8479 of 40000 complete in 4.0 sec"
       ]
      },
      {
       "output_type": "stream",
       "stream": "stdout",
       "text": [
        "\r",
        " [---------        23%                  ] 9579 of 40000 complete in 4.5 sec"
       ]
      },
      {
       "output_type": "stream",
       "stream": "stdout",
       "text": [
        "\r",
        " [----------       26%                  ] 10574 of 40000 complete in 5.0 sec"
       ]
      },
      {
       "output_type": "stream",
       "stream": "stdout",
       "text": [
        "\r",
        " [----------       28%                  ] 11518 of 40000 complete in 5.5 sec"
       ]
      },
      {
       "output_type": "stream",
       "stream": "stdout",
       "text": [
        "\r",
        " [-----------      31%                  ] 12487 of 40000 complete in 6.0 sec"
       ]
      },
      {
       "output_type": "stream",
       "stream": "stdout",
       "text": [
        "\r",
        " [------------     33%                  ] 13446 of 40000 complete in 6.5 sec"
       ]
      },
      {
       "output_type": "stream",
       "stream": "stdout",
       "text": [
        "\r",
        " [-------------    35%                  ] 14378 of 40000 complete in 7.0 sec"
       ]
      },
      {
       "output_type": "stream",
       "stream": "stdout",
       "text": [
        "\r",
        " [--------------   38%                  ] 15326 of 40000 complete in 7.5 sec"
       ]
      },
      {
       "output_type": "stream",
       "stream": "stdout",
       "text": [
        "\r",
        " [---------------  40%                  ] 16310 of 40000 complete in 8.0 sec"
       ]
      },
      {
       "output_type": "stream",
       "stream": "stdout",
       "text": [
        "\r",
        " [---------------- 43%                  ] 17281 of 40000 complete in 8.5 sec"
       ]
      },
      {
       "output_type": "stream",
       "stream": "stdout",
       "text": [
        "\r",
        " [-----------------45%                  ] 18224 of 40000 complete in 9.0 sec"
       ]
      },
      {
       "output_type": "stream",
       "stream": "stdout",
       "text": [
        "\r",
        " [-----------------47%                  ] 19164 of 40000 complete in 9.5 sec"
       ]
      },
      {
       "output_type": "stream",
       "stream": "stdout",
       "text": [
        "\r",
        " [-----------------50%                  ] 20106 of 40000 complete in 10.0 sec"
       ]
      },
      {
       "output_type": "stream",
       "stream": "stdout",
       "text": [
        "\r",
        " [-----------------52%                  ] 21054 of 40000 complete in 10.5 sec"
       ]
      },
      {
       "output_type": "stream",
       "stream": "stdout",
       "text": [
        "\r",
        " [-----------------54%                  ] 21993 of 40000 complete in 11.0 sec"
       ]
      },
      {
       "output_type": "stream",
       "stream": "stdout",
       "text": [
        "\r",
        " [-----------------57%-                 ] 22955 of 40000 complete in 11.5 sec"
       ]
      },
      {
       "output_type": "stream",
       "stream": "stdout",
       "text": [
        "\r",
        " [-----------------59%--                ] 23898 of 40000 complete in 12.0 sec"
       ]
      },
      {
       "output_type": "stream",
       "stream": "stdout",
       "text": [
        "\r",
        " [-----------------62%---               ] 24848 of 40000 complete in 12.5 sec"
       ]
      },
      {
       "output_type": "stream",
       "stream": "stdout",
       "text": [
        "\r",
        " [-----------------64%----              ] 25791 of 40000 complete in 13.0 sec"
       ]
      },
      {
       "output_type": "stream",
       "stream": "stdout",
       "text": [
        "\r",
        " [-----------------66%-----             ] 26762 of 40000 complete in 13.5 sec"
       ]
      },
      {
       "output_type": "stream",
       "stream": "stdout",
       "text": [
        "\r",
        " [-----------------69%------            ] 27714 of 40000 complete in 14.0 sec"
       ]
      },
      {
       "output_type": "stream",
       "stream": "stdout",
       "text": [
        "\r",
        " [-----------------71%-------           ] 28661 of 40000 complete in 14.5 sec"
       ]
      },
      {
       "output_type": "stream",
       "stream": "stdout",
       "text": [
        "\r",
        " [-----------------73%--------          ] 29599 of 40000 complete in 15.0 sec"
       ]
      },
      {
       "output_type": "stream",
       "stream": "stdout",
       "text": [
        "\r",
        " [-----------------76%---------         ] 30554 of 40000 complete in 15.5 sec"
       ]
      },
      {
       "output_type": "stream",
       "stream": "stdout",
       "text": [
        "\r",
        " [-----------------78%---------         ] 31518 of 40000 complete in 16.0 sec"
       ]
      },
      {
       "output_type": "stream",
       "stream": "stdout",
       "text": [
        "\r",
        " [-----------------81%----------        ] 32443 of 40000 complete in 16.5 sec"
       ]
      },
      {
       "output_type": "stream",
       "stream": "stdout",
       "text": [
        "\r",
        " [-----------------83%-----------       ] 33395 of 40000 complete in 17.0 sec"
       ]
      },
      {
       "output_type": "stream",
       "stream": "stdout",
       "text": [
        "\r",
        " [-----------------85%------------      ] 34351 of 40000 complete in 17.5 sec"
       ]
      },
      {
       "output_type": "stream",
       "stream": "stdout",
       "text": [
        "\r",
        " [-----------------88%-------------     ] 35295 of 40000 complete in 18.0 sec"
       ]
      },
      {
       "output_type": "stream",
       "stream": "stdout",
       "text": [
        "\r",
        " [-----------------90%--------------    ] 36248 of 40000 complete in 18.5 sec"
       ]
      },
      {
       "output_type": "stream",
       "stream": "stdout",
       "text": [
        "\r",
        " [-----------------92%---------------   ] 37196 of 40000 complete in 19.0 sec"
       ]
      },
      {
       "output_type": "stream",
       "stream": "stdout",
       "text": [
        "\r",
        " [-----------------95%----------------  ] 38139 of 40000 complete in 19.5 sec"
       ]
      },
      {
       "output_type": "stream",
       "stream": "stdout",
       "text": [
        "\r",
        " [-----------------97%----------------- ] 39091 of 40000 complete in 20.0 sec"
       ]
      },
      {
       "output_type": "stream",
       "stream": "stdout",
       "text": [
        "\r",
        " [-----------------100%-----------------] 40000 of 40000 complete in 20.5 sec"
       ]
      }
     ],
     "prompt_number": 19
    },
    {
     "cell_type": "code",
     "collapsed": false,
     "input": [
      "\"\"\"\n",
      " \u2847\u28b8 \u28c0\u2840   \u288e\u2851 \u2880\u28c0 \u28c0\u28c0  \u28c0\u2840 \u2847 \u2804 \u28c0\u2840 \u2880\u2840\n",
      " \u2823\u281c \u2867\u281c   \u2822\u281c \u2823\u283c \u2807\u2807\u2807 \u2867\u281c \u2823 \u2807 \u2807\u2838 \u28d1\u287a\n",
      "\"\"\"\n",
      "def add_noise(multi_sample):\n",
      "    normal = pm.Normal(name='normal', mu=0, tau=1, size=len(multi_sample))\n",
      "    sample = normal.random() + multi_sample\n",
      "    return [ \n",
      "       round(sample[i]) \n",
      "       if round(sample[i]) > 0\n",
      "       else 0.0\n",
      "       for i in range(len(sample))\n",
      "    ]\n",
      "\n",
      "def condition_dict_grid(grid, sector, num_calls):\n",
      "    ret = list()\n",
      "    for sectors in grid.itervalues():\n",
      "        #sector we got a call in matches the number of calls we're looking for\n",
      "        if sectors[sector] == num_calls: \n",
      "            ret.append(sectors)\n",
      "    return ret\n",
      "\n",
      "#TODO change grid1d from a dict to a list and combine these functions\n",
      "#returns a subset of grid with rows whose sector==num_calls \n",
      "def condition_grid(grid, sector, num_calls):\n",
      "    ret = list()\n",
      "    for sectors in grid:\n",
      "        #sector we got a call in matches the number of calls we're looking for\n",
      "        if sectors[sector] == num_calls: \n",
      "            ret.append(sectors)\n",
      "    return ret\n",
      "\n",
      "\"\"\"generates an artificial datapoint \n",
      "(by using the posteriors from mcmc for dirichlet and exponential)\n",
      "multi1.random()\n",
      "\n",
      "min support - minimum number of points needed for a reasonable prediction to be made\n",
      "if there aren't enough points in the real dataset, then we sample from\n",
      "the unobserved_multinomial to augment our artificial dataset\"\"\"\n",
      "\n",
      "def augment_grid(sector, num_calls, samples_per_iter = 100, min_support = 20, grid_real = list(), MAX_SAMPLES=20000):\n",
      "    grid1d_artificial = []\n",
      "    conditioned_grid_real = condition_grid( grid_real, sector, num_calls)\n",
      "    if len(conditioned_grid_real) >= min_support:\n",
      "        return conditioned_grid_real\n",
      "    else:\n",
      "        iters = 0\n",
      "        while ( len(grid1d_artificial) < (min_support - len(conditioned_grid_real)) ) and (iters*samples_per_iter < MAX_SAMPLES):\n",
      "            artificial_samples = [add_noise(multi1.random()) for i in range(samples_per_iter)]\n",
      "            iters+=1\n",
      "            if np.mod(iters, 100) == 0: print 'sample iter 100 x ', iters\n",
      "            grid1d_artificial.extend(  condition_grid( artificial_samples, sector, num_calls )  )\n",
      "    return grid1d_artificial"
     ],
     "language": "python",
     "metadata": {},
     "outputs": [],
     "prompt_number": 20
    },
    {
     "cell_type": "code",
     "collapsed": false,
     "input": [
      "\"\"\"\n",
      " \u284e\u2811 \u2840\u28c0 \u2804 \u2880\u28f8          \u2808\u28a2   \u284e\u2811 \u2880\u2840 \u2880\u2840\n",
      " \u2823\u281d \u280f  \u2807 \u2823\u283c   \u2809\u2809 \u2809\u2809 \u2880\u281c   \u2823\u281d \u2823\u282d \u2823\u281c\n",
      "GRIDSQUARES -> LATS, LONS\n",
      ".--> (x) == lon_steps\n",
      "| \n",
      "v (y) == lat_steps\n",
      "\n",
      "lats and lons were hashed into grid squares via the gridsplit1d and in_square functions\n",
      "grid[(N_STEPS*lat_index) + lon_index] += 1\n",
      "\"\"\"\n",
      "\n",
      "lat_stepsize = np.abs(lat_steps[0] - lat_steps[1])\n",
      "lon_stepsize = np.abs(lon_steps[0] - lon_steps[1])\n",
      "\n",
      "lat_sd = lat_stepsize**2 if lat_stepsize < 1 else np.sqrt(lat_stepsize)\n",
      "lon_sd = lon_stepsize**2 if lon_stepsize < 1 else np.sqrt(lon_stepsize)\n",
      "\n",
      "def grid1dToLatsLons_plot(grid):\n",
      "    lats = []; lons = [];\n",
      "    for i in range( len( grid) ):\n",
      "        for j in range( len( grid[i] ) ):\n",
      "            num_calls = grid[i][j]\n",
      "            if num_calls == 0: continue\n",
      "            lat_step = np.mod(j, N_STEPS)\n",
      "            lon_step = j / N_STEPS\n",
      "            \n",
      "            lat_mean = lat_steps[lat_step] \n",
      "            lon_mean = lon_steps[lon_step]               \n",
      "            #lats.append(lat_mean) #works\n",
      "            #lons.append(lon_mean)\n",
      "            \n",
      "            lats.extend(np.random.normal(loc=lat_mean, scale=lat_sd, size = num_calls )) \n",
      "            lons.extend(np.random.normal(loc=lon_mean, scale=lat_sd, size = num_calls )) \n",
      "    return lats, lons\n",
      "\n",
      "#for use with plt.scatter(). \n",
      "def grid1dToLatsLonsSize_scatter(grid):\n",
      "    lats = []; lons = []; sizes=[]\n",
      "    for i in range( len(grid) ):\n",
      "        for j in range( len(grid[i] ) ):\n",
      "            num_calls = grid[i][j]\n",
      "            if num_calls == 0: continue\n",
      "            lat_step = np.mod(j, N_STEPS)\n",
      "            lon_step = j / N_STEPS\n",
      "            \n",
      "            #if (lat_step == 0 and lon_step==0):\n",
      "            lat_mean = lat_steps[lat_step]\n",
      "            lon_mean = lon_steps[lon_step]\n",
      "            \n",
      "            lats.append(np.random.normal(loc=lat_mean, scale=lat_sd ))\n",
      "            lons.append(np.random.normal(loc=lon_mean, scale=lat_sd ))\n",
      "            #lats.append(lat_mean) #works\n",
      "            #lons.append(lon_mean)\n",
      "            sizes.append(num_calls)\n",
      "    return lats, lons, sizes"
     ],
     "language": "python",
     "metadata": {},
     "outputs": [],
     "prompt_number": 21
    },
    {
     "cell_type": "code",
     "collapsed": false,
     "input": [
      "\"\"\"\n",
      "Graph a heatmap of the data by sector\n",
      "May be conditioned on getting an exact number of calls in a sector\n",
      "\"\"\"\n",
      "map = Basemap(projection='merc', lat_0=39, lon_0=-94.5,\n",
      "    resolution = 'l', area_thresh = 3000.0,\n",
      "    llcrnrlon=-95, llcrnrlat=38.7,\n"
     ],
     "language": "python",
     "metadata": {},
     "outputs": [],
     "prompt_number": 22
    },
    {
     "cell_type": "code",
     "collapsed": false,
     "input": [
      "sector = 1\n",
      "num_calls = 3\n",
      "conditioned_grid = condition_dict_grid(grid1d, sector=sector, num_calls = num_calls)\n",
      "cgrid_upsampled = augment_grid( sector, num_calls, grid_real= conditioned_grid)\n",
      "\n",
      "lats, lons, sizes = grid1dToLatsLonsSize_scatter(conditioned_grid)\n",
      "xpts, ypts = map(lons, lats)\n",
      "\n",
      "lats, lons, sizes = grid1dToLatsLonsSize_scatter(cgrid_upsampled)\n",
      "xpts_sampled, ypts_sampled = map(lons, lats)\n",
      "\n",
      "#x,y = map(lon_steps, lat_steps) #test case, should see identity matrix"
     ],
     "language": "python",
     "metadata": {},
     "outputs": [],
     "prompt_number": 24
    },
    {
     "cell_type": "code",
     "collapsed": false,
     "input": [
      "plt.figure(figsize=(24,12))\n",
      "ax = plt.axes()\n",
      "ax.set_axis_bgcolor('grey')\n",
      "img=mpimg.imread('kcmo1.png')\n",
      "#extent = [left, right, bottom, top]\n",
      "left = np.min(xpts_sampled); right = np.max(xpts_sampled); bottom = np.min(ypts_sampled); top = np.max(ypts_sampled)\n",
      "imgplot = plt.imshow(img, extent=[left, right, bottom, top])\n",
      "size = ( np.abs(right-left) + np.abs(top-bottom) ) / (2*20)\n",
      "ax.scatter(x=xpts, y=ypts, alpha=.4, s=size, c='green', label='real data')\n",
      "ax.scatter(x=xpts_sampled, y=ypts_sampled, alpha=.1, s=size, c = 'violet', label='sampled data')\n",
      "ax.legend(('real data', 'sampled data'), loc='lower right', markerscale=.2, framealpha=.7 )"
     ],
     "language": "python",
     "metadata": {},
     "outputs": [
      {
       "metadata": {},
       "output_type": "pyout",
       "prompt_number": 25,
       "text": [
        "<matplotlib.legend.Legend at 0x7fce4c3adf50>"
       ]
      },
      {
       "metadata": {},
       "output_type": "display_data",
       "png": "[encoded data removed]",
       "text": [
        "<matplotlib.figure.Figure at 0x7fce4e7cbc50>"
       ]
      }
     ],
     "prompt_number": 25
    }
   ],
   "metadata": {}
  }
 ]
}